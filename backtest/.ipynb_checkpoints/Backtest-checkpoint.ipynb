{
 "cells": [
  {
   "cell_type": "code",
   "execution_count": 168,
   "id": "eda3d996",
   "metadata": {},
   "outputs": [],
   "source": [
    "import pandas as pd\n",
    "from datetime import datetime as dt,timedelta\n",
    "from os import path\n",
    "from binance.client import Client"
   ]
  },
  {
   "cell_type": "code",
   "execution_count": 169,
   "id": "084ef0a7",
   "metadata": {},
   "outputs": [],
   "source": [
    "pair = 'BTCUSDT'\n",
    "start_date = '1 Sep, 2019'\n",
    "end_date = '1 Sep, 2022'\n",
    "interval = Client.KLINE_INTERVAL_1HOUR\n",
    "\n",
    "percentage_drop_to_enter = -20\n",
    "take_profit = 100"
   ]
  },
  {
   "cell_type": "code",
   "execution_count": 170,
   "id": "c2fe1efc",
   "metadata": {},
   "outputs": [],
   "source": [
    "###### GETTING DATA ######\n",
    "\n",
    "API_KEY='YOUR_API_KEYS'\n",
    "API_SECRET='YOUR_SECRET_KEYS'\n",
    "\n",
    "client = Client(API_KEY,API_SECRET)\n",
    "candlesticks = client.get_historical_klines(pair, interval, start_date, end_date)\n",
    "\n",
    "for candlestick in candlesticks:\n",
    "    candlestick[0] =dt.fromtimestamp(candlestick[0] / 1000)\n",
    "df = pd.DataFrame(candlesticks)"
   ]
  },
  {
   "cell_type": "code",
   "execution_count": 171,
   "id": "2021c471",
   "metadata": {},
   "outputs": [
    {
     "name": "stdout",
     "output_type": "stream",
     "text": [
      "\n",
      "Entry Date: 2020-03-12 14:00:00 Entry Price: 5883.992 Exit Date: 2020-08-01 23:00:00 Exit Price: 11767.984 \n",
      "Exit Duration 142 days 09:00:00 Profit: 100%\n",
      "\n",
      "Entry Date: 2020-03-13 03:00:00 Entry Price: 4640.216 Exit Date: 2020-04-30 07:00:00 Exit Price: 9280.432 \n",
      "Exit Duration 48 days 04:00:00 Profit: 100%\n",
      "\n",
      "\n",
      "Total Profit: 200%\n",
      "Closed Positions: 2\n",
      "Open Positions: 0\n"
     ]
    }
   ],
   "source": [
    "###### Backtesting ######\n",
    "\n",
    "entry_dates = []\n",
    "exit_dates = []\n",
    "entry_prices = []\n",
    "exit_prices = []\n",
    "exit_durations = []\n",
    "profits=[]\n",
    "total_profit = 0\n",
    "closed_positions = 0\n",
    "open_positions = 0\n",
    "\n",
    "for row in df.itertuples(index=False):\n",
    "    \n",
    "    date = row[0]\n",
    "    opening = float(row[1])\n",
    "    low = float(row[3])\n",
    "    closing = float(row[4])\n",
    "    \n",
    "    entry_price = opening * ((100 + percentage_drop_to_enter) / 100)\n",
    "    exit_price = entry_price * ((100 + take_profit) / 100)\n",
    "    entry_date = None\n",
    "    exit_date = None\n",
    "    exit_duration = None\n",
    "    profit=0\n",
    "    if low <= entry_price:\n",
    "        entry_date = date\n",
    "        profit=(float(df[4][len(df.index)-1]) - entry_price) * 100 / entry_price\n",
    "\n",
    "        \n",
    "        if closing>exit_price:\n",
    "            exit_date=date\n",
    "            exit_duration='0 days'\n",
    "            profit=take_profit\n",
    "            closed_positions+=1\n",
    "        else:\n",
    "            for exit in df.itertuples(index=False):\n",
    "                if exit[0]>entry_date:\n",
    "                    high = float(exit[2])\n",
    "                    if high>=exit_price:\n",
    "                        exit_date=exit[0]\n",
    "                        exit_duration=str(exit_date-entry_date)\n",
    "                        profit=take_profit\n",
    "                        closed_positions+=1\n",
    "                        break\n",
    "                        \n",
    "        if exit_date==None:\n",
    "            # If position is not closed in daily interval, get 1 Minute candlesticks worth of 24 hours from entry point\n",
    "            one_day=timedelta(days=1)\n",
    "            open_positions+=1\n",
    "            candlesticks = client.get_historical_klines(pair, Client.KLINE_INTERVAL_1MINUTE, str(entry_date)[0:10], str(entry_date+one_day)[0:10])\n",
    "\n",
    "            for index in range(0,len(candlesticks)):\n",
    "                date=dt.fromtimestamp(candlesticks[index][0] / 1000)\n",
    "                if float(candlesticks[index][3])<=entry_price:\n",
    "                    entry_date=date\n",
    "\n",
    "                    for exit in range(index,len(candlesticks)):\n",
    "                        if float(candlesticks[index][2])>=exit_price:\n",
    "                            exit_date=dt.fromtimestamp(candlesticks[exit][0] / 1000)\n",
    "                            exit_duration=str(exit_date-entry_date)\n",
    "                            profit=take_profit\n",
    "                            closed_positions+=1\n",
    "                            open_positions-=1\n",
    "                            break\n",
    "                    break        \n",
    "        \n",
    "        entry_dates.append(str(entry_date))\n",
    "        exit_dates.append(str(exit_date))\n",
    "        entry_prices.append(entry_price)\n",
    "        exit_prices.append(exit_price)\n",
    "        exit_durations.append(exit_duration)\n",
    "        profits.append(str(profit)+'%')\n",
    "        total_profit+=profit\n",
    "        print('\\nEntry Date:',str(entry_date),'Entry Price:',entry_price,'Exit Date:',str(exit_date),'Exit Price:',exit_price,\n",
    "             '\\nExit Duration',exit_duration,'Profit:',str(profit)+'%',)\n",
    "\n",
    "print(f'\\n\\nTotal Profit: {total_profit}%')\n",
    "print(f'Closed Positions: {closed_positions}')\n",
    "print(f'Open Positions: {open_positions}')     "
   ]
  },
  {
   "cell_type": "code",
   "execution_count": 172,
   "id": "9c97dc76",
   "metadata": {},
   "outputs": [],
   "source": [
    "header = ['No','Entry Date', 'Entry Price','Exit Date','Exit Price','Exit Duration','Profit']\n",
    "df1 = pd.DataFrame(columns=header).set_index('No')\n",
    "\n",
    "df1['Entry Date'] = entry_dates\n",
    "df1['Entry Price'] = entry_prices\n",
    "df1['Exit Date'] = exit_dates\n",
    "df1['Exit Price'] = exit_prices\n",
    "df1['Exit Duration'] = exit_durations\n",
    "df1['Profit'] = profits\n",
    "# Save to excel\n",
    "writer = pd.ExcelWriter(f'{pair}.xlsx')\n",
    "df1.to_excel(writer)\n",
    "writer.save()"
   ]
  },
  {
   "cell_type": "code",
   "execution_count": null,
   "id": "2f6f4205",
   "metadata": {},
   "outputs": [],
   "source": []
  },
  {
   "cell_type": "code",
   "execution_count": null,
   "id": "5a42541a",
   "metadata": {},
   "outputs": [],
   "source": []
  }
 ],
 "metadata": {
  "kernelspec": {
   "display_name": "Python 3 (ipykernel)",
   "language": "python",
   "name": "python3"
  },
  "language_info": {
   "codemirror_mode": {
    "name": "ipython",
    "version": 3
   },
   "file_extension": ".py",
   "mimetype": "text/x-python",
   "name": "python",
   "nbconvert_exporter": "python",
   "pygments_lexer": "ipython3",
   "version": "3.9.7"
  }
 },
 "nbformat": 4,
 "nbformat_minor": 5
}
